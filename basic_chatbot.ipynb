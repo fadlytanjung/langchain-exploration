{
 "cells": [
  {
   "cell_type": "code",
   "execution_count": 1,
   "id": "2819cea8-079f-40bc-804d-afd9a855cdf1",
   "metadata": {},
   "outputs": [
    {
     "data": {
      "text/plain": [
       "<langgraph.graph.state.StateGraph at 0x107c51a90>"
      ]
     },
     "execution_count": 1,
     "metadata": {},
     "output_type": "execute_result"
    }
   ],
   "source": [
    "from typing import Annotated\n",
    "from typing_extensions import TypedDict\n",
    "from langgraph.graph import StateGraph, START\n",
    "from langgraph.graph.message import add_messages\n",
    "\n",
    "class State(TypedDict):\n",
    "    # Messages have the type \"list\". The `add_messages` function\n",
    "    # in the annotation defines how this state key should be updated\n",
    "    # (in this case, it appends messages to the list, rather than overwriting them)\n",
    "    messages: Annotated[list, add_messages]\n",
    "\n",
    "\n",
    "graph_builder = StateGraph(State)\n",
    "graph_builder"
   ]
  },
  {
   "cell_type": "code",
   "execution_count": 2,
   "id": "1273686c-3bde-49ed-8cc7-6edddd808e87",
   "metadata": {},
   "outputs": [],
   "source": [
    "import os\n",
    "from langchain.chat_models import init_chat_model\n",
    "from dotenv import load_dotenv\n",
    "\n",
    "load_dotenv()\n",
    "\n",
    "api_key = os.getenv(\"OPENAI_API_KEY\")\n",
    "ls_api_key      = os.getenv(\"LANGSMITH_API_KEY\")\n",
    "ls_endpoint     = os.getenv(\"LANGSMITH_ENDPOINT\")\n",
    "ls_project      = os.getenv(\"LANGSMITH_PROJECT\")\n",
    "ls_tracing_flag = os.getenv(\"LANGSMITH_TRACING\", \"false\").lower() == \"true\"\n",
    "\n",
    "llm = init_chat_model(\"openai:gpt-4.1-mini\",openai_api_key=api_key)\n",
    "\n",
    "# if ls_tracing_flag:\n",
    "#     from langchain.callbacks.tracers import LangsmithTracer\n",
    "#     tracer = LangsmithTracer(\n",
    "#         project_name=ls_project,\n",
    "#         api_key=ls_api_key,\n",
    "#         endpoint=ls_endpoint,\n",
    "#     )\n",
    "#     tracer.init()"
   ]
  },
  {
   "cell_type": "code",
   "execution_count": 3,
   "id": "8edec1b7-58b8-40de-8c78-c0f6131f94a8",
   "metadata": {},
   "outputs": [
    {
     "data": {
      "text/plain": [
       "<langgraph.graph.state.StateGraph at 0x107c51a90>"
      ]
     },
     "execution_count": 3,
     "metadata": {},
     "output_type": "execute_result"
    }
   ],
   "source": [
    "def chatbot(state: State):\n",
    "    return {\"messages\": [llm.invoke(state[\"messages\"])]}\n",
    "\n",
    "\n",
    "# The first argument is the unique node name\n",
    "# The second argument is the function or object that will be called whenever\n",
    "# the node is used.\n",
    "graph_builder.add_node(\"chatbot\", chatbot)"
   ]
  },
  {
   "cell_type": "code",
   "execution_count": 23,
   "id": "634b5134-84e8-459d-b339-0103949f161c",
   "metadata": {},
   "outputs": [
    {
     "data": {
      "text/plain": [
       "<langgraph.graph.state.StateGraph at 0x117469670>"
      ]
     },
     "execution_count": 23,
     "metadata": {},
     "output_type": "execute_result"
    }
   ],
   "source": [
    "graph_builder.add_edge(START, \"chatbot\")"
   ]
  },
  {
   "cell_type": "code",
   "execution_count": 24,
   "id": "6e7ca11b-fdf8-4c1d-aa0f-5167c7621370",
   "metadata": {},
   "outputs": [],
   "source": [
    "graph = graph_builder.compile()"
   ]
  },
  {
   "cell_type": "code",
   "execution_count": 10,
   "id": "d8195d30-1583-4566-b276-a6cc736e017a",
   "metadata": {},
   "outputs": [
    {
     "data": {
      "image/png": "[encoded data removed]",
      "text/plain": [
       "<IPython.core.display.Image object>"
      ]
     },
     "metadata": {},
     "output_type": "display_data"
    }
   ],
   "source": [
    "from IPython.display import Image, display\n",
    "\n",
    "try:\n",
    "    display(Image(graph.get_graph().draw_mermaid_png()))\n",
    "except Exception:\n",
    "    # This requires some extra dependencies and is optional\n",
    "    pass"
   ]
  },
  {
   "cell_type": "markdown",
   "id": "07032779-fa15-46df-8b18-d98e57c2977e",
   "metadata": {},
   "source": [
    "### Widget Interface Chat"
   ]
  },
  {
   "cell_type": "code",
   "execution_count": 26,
   "id": "5d613503-54f7-457b-b6eb-50552e4d29e0",
   "metadata": {},
   "outputs": [
    {
     "data": {
      "application/vnd.jupyter.widget-view+json": {
       "model_id": "130b0d6337964b42831988d8a4a97065",
       "version_major": 2,
       "version_minor": 0
      },
      "text/plain": [
       "HBox(children=(Text(value='', layout=Layout(width='70%'), placeholder='Type something…'), Button(description='…"
      ]
     },
     "metadata": {},
     "output_type": "display_data"
    },
    {
     "data": {
      "application/vnd.jupyter.widget-view+json": {
       "model_id": "3bde112cc18b4527a2ae2a7523ae87b3",
       "version_major": 2,
       "version_minor": 0
      },
      "text/plain": [
       "Output(layout=Layout(border_bottom='1px solid lightgray', border_left='1px solid lightgray', border_right='1px…"
      ]
     },
     "metadata": {},
     "output_type": "display_data"
    }
   ],
   "source": [
    "import threading\n",
    "import ipywidgets as widgets\n",
    "from IPython.display import display, clear_output\n",
    "\n",
    "# ─── YOUR STREAMING FUNCTION ──────────────────────────────────────────────────\n",
    "def stream_graph_updates(user_input: str, out_widget):\n",
    "    for event in graph.stream({\"messages\":[{\"role\":\"user\",\"content\":user_input}]}):\n",
    "        for value in event.values():\n",
    "            msg = value[\"messages\"][-1].content\n",
    "            out_widget.append_stdout(f\"Assistant: {msg}\\n\")\n",
    "\n",
    "input_box = widgets.Text(\n",
    "    placeholder=\"Type something…\",\n",
    "    layout=widgets.Layout(width=\"70%\")\n",
    ")\n",
    "send_button = widgets.Button(description=\"Send\")\n",
    "output_area = widgets.Output(layout=widgets.Layout(border=\"1px solid lightgray\"))\n",
    "\n",
    "ui = widgets.HBox([input_box, send_button])\n",
    "display(ui, output_area)\n",
    "\n",
    "def on_send_click(_):\n",
    "    user_text = input_box.value.strip()\n",
    "    if not user_text:\n",
    "        return\n",
    "    \n",
    "    input_box.value = \"\"\n",
    "    with output_area:\n",
    "        output_area.append_stdout(f\"You: {user_text}\\n\")\n",
    "    \n",
    "    if user_text.lower() in (\"quit\", \"exit\", \"q\"):\n",
    "        with output_area:\n",
    "            output_area.append_stdout(\"Goodbye!\\n\")\n",
    "        input_box.disabled = True\n",
    "        send_button.disabled = True\n",
    "        return\n",
    "\n",
    "    threading.Thread(\n",
    "        target=stream_graph_updates,\n",
    "        args=(user_text, output_area),\n",
    "        daemon=True\n",
    "    ).start()\n",
    "\n",
    "send_button.on_click(on_send_click)"
   ]
  },
  {
   "cell_type": "markdown",
   "id": "1f0e93f5-d08d-499c-8ded-1b95e5d23af8",
   "metadata": {},
   "source": [
    "### Command Line Interface Chat"
   ]
  },
  {
   "cell_type": "code",
   "execution_count": 27,
   "id": "ce4f5744-16e5-491f-9d89-76cfd82b02e2",
   "metadata": {},
   "outputs": [
    {
     "name": "stdin",
     "output_type": "stream",
     "text": [
      "User:  My name fadly\n"
     ]
    },
    {
     "name": "stdout",
     "output_type": "stream",
     "text": [
      "Assistant: Hello Fadly! How can I assist you today?\n"
     ]
    },
    {
     "name": "stdin",
     "output_type": "stream",
     "text": [
      "User:  no, thankyou\n"
     ]
    },
    {
     "name": "stdout",
     "output_type": "stream",
     "text": [
      "Assistant: You're welcome! If you need anything else, feel free to ask. Have a great day!\n"
     ]
    },
    {
     "name": "stdin",
     "output_type": "stream",
     "text": [
      "User:  q\n"
     ]
    },
    {
     "name": "stdout",
     "output_type": "stream",
     "text": [
      "Goodbye!\n"
     ]
    }
   ],
   "source": [
    "def stream_graph_updates(user_input: str):\n",
    "    for event in graph.stream({\"messages\": [{\"role\": \"user\", \"content\": user_input}]}):\n",
    "        for value in event.values():\n",
    "            print(\"Assistant:\", value[\"messages\"][-1].content)\n",
    "\n",
    "\n",
    "while True:\n",
    "    try:\n",
    "        user_input = input(\"User: \")\n",
    "        if user_input.lower() in [\"quit\", \"exit\", \"q\"]:\n",
    "            print(\"Goodbye!\")\n",
    "            break\n",
    "        stream_graph_updates(user_input)\n",
    "    except:\n",
    "        # fallback if input() is not available\n",
    "        user_input = \"What do you know about LangGraph?\"\n",
    "        print(\"User: \" + user_input)\n",
    "        stream_graph_updates(user_input)\n",
    "        break"
   ]
  },
  {
   "cell_type": "markdown",
   "id": "d28dd2c8-7a2b-42b8-b261-dc0e804096e3",
   "metadata": {},
   "source": [
    "### Add tool (e.g: Travily)"
   ]
  },
  {
   "cell_type": "code",
   "execution_count": 5,
   "id": "bc51930a-0b3d-4b4e-961f-4145a7e96e4c",
   "metadata": {},
   "outputs": [
    {
     "data": {
      "text/plain": [
       "{'query': \"What's a 'node' in LangGraph?\",\n",
       " 'follow_up_questions': None,\n",
       " 'answer': None,\n",
       " 'images': [],\n",
       " 'results': [{'title': 'Nodes and Edges | langchain-ai/langgraph-101 | DeepWiki',\n",
       "   'url': 'https://deepwiki.com/langchain-ai/langgraph-101/2.2-nodes-and-edges',\n",
       "   'content': 'Nodes and Edges | langchain-ai/langgraph-101 | DeepWiki Nodes and Edges Nodes and Edges What are Nodes and Edges? In LangGraph, a graph is composed of nodes connected by edges to form a directed workflow. Nodes are the workhorses of LangGraph - they are Python functions that receive the current graph state as input, perform operations, and return updates to that state. Edges define the flow of execution between nodes in a LangGraph. graph_builder.add_edge(\"retrieve_documents\", \"generate_response\") Conditional edges use a function to determine the next node based on the current state. Building a Graph with Nodes and Edges graph_builder.add_node(\"retrieve_documents\", retrieve_documents) graph_builder.add_edge(\"retrieve_documents\", \"generate_response\") When designing nodes and edges in LangGraph: Nodes and Edges What are Nodes and Edges? Building a Graph with Nodes and Edges',\n",
       "   'score': 0.8559598,\n",
       "   'raw_content': None},\n",
       "  {'title': 'LangGraph Basics: Understanding State, Schema, Nodes, and Edges',\n",
       "   'url': 'https://medium.com/@vivekvjnk/langgraph-basics-understanding-state-schema-nodes-and-edges-77f2fd17cae5',\n",
       "   'content': 'LangGraph Basics: Understanding State, Schema, Nodes, and Edges | by Story_Teller | Medium LangGraph Basics: Understanding State, Schema, Nodes, and Edges LangGraph Basics: Understanding State, Schema, Nodes, and Edges These predefined structures in the messaging app are synonymous with the schema of the state in LangGraph. Just as a messaging app ensures all interactions (messages) follow a consistent format, the schema in LangGraph ensures the state passed along edges is structured and interpretable. This static schema allows nodes to rely on a consistent state format, ensuring seamless communication along edges throughout the graph. In this article, we explored the foundational concepts of graph-based systems, drawing parallels to familiar messaging applications to illustrate how edges, nodes, and state transitions function seamlessly in dynamic workflows.',\n",
       "   'score': 0.6501347,\n",
       "   'raw_content': None}],\n",
       " 'response_time': 0.79}"
      ]
     },
     "execution_count": 5,
     "metadata": {},
     "output_type": "execute_result"
    }
   ],
   "source": [
    "from langchain_tavily import TavilySearch\n",
    "\n",
    "travily_api_key = os.getenv(\"TRAVILY_API_KEY\")\n",
    "tool = TavilySearch(max_results=2, tavily_api_key=travily_api_key)\n",
    "tools = [tool]\n",
    "tool.invoke(\"What's a 'node' in LangGraph?\")"
   ]
  },
  {
   "cell_type": "markdown",
   "id": "bba8f054-6c52-42e2-b2bb-93f9a2f0e32b",
   "metadata": {},
   "source": [
    "### Initialize Chatbot with Tools"
   ]
  },
  {
   "cell_type": "code",
   "execution_count": 8,
   "id": "d678da0e-2249-4092-82e8-ea1e44dd1ba5",
   "metadata": {},
   "outputs": [],
   "source": [
    "from langgraph.prebuilt import ToolNode, tools_condition\n",
    "\n",
    "graph_builder = StateGraph(State)\n",
    "llm_with_tools = llm.bind_tools(tools)\n",
    "\n",
    "def chatbot(state: State):\n",
    "    return {\"messages\": [llm_with_tools.invoke(state[\"messages\"])]}\n",
    "\n",
    "graph_builder.add_node(\"chatbot\", chatbot)\n",
    "\n",
    "tool_node = ToolNode(tools=[tool])\n",
    "graph_builder.add_node(\"tools\", tool_node)\n",
    "\n",
    "graph_builder.add_conditional_edges(\n",
    "    \"chatbot\",\n",
    "    tools_condition,\n",
    ")\n",
    "# Any time a tool is called, we return to the chatbot to decide the next step\n",
    "graph_builder.add_edge(\"tools\", \"chatbot\")\n",
    "graph_builder.add_edge(START, \"chatbot\")\n",
    "graph = graph_builder.compile()"
   ]
  },
  {
   "cell_type": "code",
   "execution_count": 11,
   "id": "14dafc00-5fd1-4a8a-a14b-2715f4dd9ee4",
   "metadata": {},
   "outputs": [
    {
     "data": {
      "image/png": "[encoded data removed]",
      "text/plain": [
       "<IPython.core.display.Image object>"
      ]
     },
     "metadata": {},
     "output_type": "display_data"
    }
   ],
   "source": [
    "display(Image(graph.get_graph().draw_mermaid_png()))"
   ]
  },
  {
   "cell_type": "markdown",
   "id": "d175ae0b-d1b1-464c-b8fb-f78d7c7548b8",
   "metadata": {},
   "source": [
    "### Command Line Interface Chat with Tool (Tavily)"
   ]
  },
  {
   "cell_type": "code",
   "execution_count": 31,
   "id": "58dcadef-103d-415a-826f-7adc9fb4b6da",
   "metadata": {},
   "outputs": [
    {
     "name": "stdin",
     "output_type": "stream",
     "text": [
      "User:  q\n"
     ]
    },
    {
     "name": "stdout",
     "output_type": "stream",
     "text": [
      "Goodbye!\n"
     ]
    }
   ],
   "source": [
    "def stream_graph_updates(user_input: str):\n",
    "    for event in graph.stream({\"messages\": [{\"role\": \"user\", \"content\": user_input}]}):\n",
    "        for value in event.values():\n",
    "            print(\"Assistant:\", value[\"messages\"][-1].content)\n",
    "\n",
    "while True:\n",
    "    try:\n",
    "        user_input = input(\"User: \")\n",
    "        if user_input.lower() in [\"quit\", \"exit\", \"q\"]:\n",
    "            print(\"Goodbye!\")\n",
    "            break\n",
    "\n",
    "        stream_graph_updates(user_input)\n",
    "    except:\n",
    "        # fallback if input() is not available\n",
    "        user_input = \"What do you know about LangGraph?\"\n",
    "        print(\"User: \" + user_input)\n",
    "        stream_graph_updates(user_input)\n",
    "        break"
   ]
  },
  {
   "cell_type": "markdown",
   "id": "d6a375fc-bec7-4463-9d8b-9aa94a7a16a6",
   "metadata": {},
   "source": [
    "### Add memory checkpoint"
   ]
  },
  {
   "cell_type": "code",
   "execution_count": 12,
   "id": "79469448-f356-4a6c-9766-23b5c9335d22",
   "metadata": {},
   "outputs": [],
   "source": [
    "from langgraph.checkpoint.memory import MemorySaver\n",
    "\n",
    "graph_builder = StateGraph(State)\n",
    "llm_with_tools = llm.bind_tools(tools)\n",
    "\n",
    "def chatbot(state: State):\n",
    "    return {\"messages\": [llm_with_tools.invoke(state[\"messages\"])]}\n",
    "\n",
    "graph_builder.add_node(\"chatbot\", chatbot)\n",
    "tool_node = ToolNode(tools=[tool])\n",
    "graph_builder.add_node(\"tools\", tool_node)\n",
    "\n",
    "graph_builder.add_conditional_edges(\n",
    "    \"chatbot\",\n",
    "    tools_condition,\n",
    ")\n",
    "graph_builder.add_edge(\"tools\", \"chatbot\")\n",
    "graph_builder.set_entry_point(\"chatbot\")\n",
    "memory = MemorySaver()\n",
    "graph = graph_builder.compile(checkpointer=memory)"
   ]
  },
  {
   "cell_type": "code",
   "execution_count": 33,
   "id": "cfe3e04c-14d5-4800-bfc9-6855592fda2a",
   "metadata": {},
   "outputs": [
    {
     "data": {
      "image/png": "[encoded data removed]",
      "text/plain": [
       "<IPython.core.display.Image object>"
      ]
     },
     "metadata": {},
     "output_type": "display_data"
    }
   ],
   "source": [
    "display(Image(graph.get_graph().draw_mermaid_png()))"
   ]
  },
  {
   "cell_type": "code",
   "execution_count": 14,
   "id": "3dd9dbe1-53d6-4d37-afc2-bb2b2301cf69",
   "metadata": {},
   "outputs": [],
   "source": [
    "config = {\"configurable\": {\"thread_id\": \"5\"}}"
   ]
  },
  {
   "cell_type": "code",
   "execution_count": 24,
   "id": "25cc46a8-92a7-416f-ba00-0564e21b62c2",
   "metadata": {},
   "outputs": [
    {
     "name": "stdin",
     "output_type": "stream",
     "text": [
      "User:  who is my name?\n"
     ]
    },
    {
     "name": "stdout",
     "output_type": "stream",
     "text": [
      "Assistant: Your name is Fadly. If you have any other questions or need assistance, feel free to ask!\n"
     ]
    },
    {
     "name": "stdin",
     "output_type": "stream",
     "text": [
      "User:  q\n"
     ]
    },
    {
     "name": "stdout",
     "output_type": "stream",
     "text": [
      "Goodbye!\n"
     ]
    }
   ],
   "source": [
    "from langchain.schema import AIMessage\n",
    "\n",
    "def stream_graph_updates(user_input: str):\n",
    "    for event in graph.stream(\n",
    "        {\"messages\": [{\"role\": \"user\", \"content\": user_input}]},\n",
    "        config=config,\n",
    "        stream_mode=\"values\",\n",
    "    ):\n",
    "        msg = event['messages'][-1]\n",
    "\n",
    "        if isinstance(msg, AIMessage):\n",
    "            print(\"Assistant: \"+msg.content)\n",
    "\n",
    "while True:\n",
    "    try:\n",
    "        user_input = input(\"User: \")\n",
    "        if user_input.lower() in [\"quit\", \"exit\", \"q\"]:\n",
    "            print(\"Goodbye!\")\n",
    "            break\n",
    "\n",
    "        stream_graph_updates(user_input)\n",
    "    except:\n",
    "        # fallback if input() is not available\n",
    "        user_input = \"What do you know about LangGraph?\"\n",
    "        print(\"User: \" + user_input)\n",
    "        stream_graph_updates(user_input)\n",
    "        break"
   ]
  },
  {
   "cell_type": "markdown",
   "id": "078cc47e-6b78-4956-8653-31b2e29c09bc",
   "metadata": {},
   "source": [
    "### Inspect State Thread"
   ]
  },
  {
   "cell_type": "code",
   "execution_count": 25,
   "id": "c30f6ce5-565b-45e5-a373-843891806b0c",
   "metadata": {},
   "outputs": [],
   "source": [
    "snapshot = graph.get_state(config)"
   ]
  },
  {
   "cell_type": "code",
   "execution_count": 26,
   "id": "23f8a0ff-2d28-442b-be29-a942924ad449",
   "metadata": {},
   "outputs": [
    {
     "data": {
      "text/plain": [
       "()"
      ]
     },
     "execution_count": 26,
     "metadata": {},
     "output_type": "execute_result"
    }
   ],
   "source": [
    "snapshot.next"
   ]
  },
  {
   "cell_type": "code",
   "execution_count": null,
   "id": "cea0fccb-317e-40f2-a09c-7ab1df1e2afd",
   "metadata": {},
   "outputs": [],
   "source": []
  }
 ],
 "metadata": {
  "kernelspec": {
   "display_name": "Python 3 (ipykernel)",
   "language": "python",
   "name": "python3"
  },
  "language_info": {
   "codemirror_mode": {
    "name": "ipython",
    "version": 3
   },
   "file_extension": ".py",
   "mimetype": "text/x-python",
   "name": "python",
   "nbconvert_exporter": "python",
   "pygments_lexer": "ipython3",
   "version": "3.12.11"
  }
 },
 "nbformat": 4,
 "nbformat_minor": 5
}
